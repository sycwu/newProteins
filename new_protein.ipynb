{
 "cells": [
  {
   "cell_type": "code",
   "execution_count": 121,
   "id": "b28ad0b5-0f33-4267-a43f-801d8d278f61",
   "metadata": {},
   "outputs": [],
   "source": [
    "import csv\n",
    "from datetime import datetime\n",
    "\n",
    "with open(\"ALLbrakerAA against human.txt\") as f:\n",
    "    reader1 = csv.reader(f, delimiter=\"\\t\")\n",
    "    new = list(reader1)\n",
    "\n",
    "with open(\"v10.7 against human.txt\") as e:\n",
    "    reader2 = csv.reader(e, delimiter=\"\\t\")\n",
    "    ori = list(reader2)\n",
    "\n",
    "with open(\"brakerAA against v10.7.txt\") as x:\n",
    "    reader3 = csv.reader(x, delimiter=\"\\t\")\n",
    "    xen = list(reader3)\n",
    "\n",
    "output = \"output.txt\" #this is the raw list of NOVEL proteins that have not been mapped to before by v10.7\n",
    "matchedproteins = \"matchedProteins.txt\" #this is a SUBSET of output.txt: braker transcripts which mapped to v10.7 transcripts AND have hits for the corresponding v10.7 query\n",
    "newproteins = \"newProteins.txt\" #this is a SUBSET of output.txt: braker transcripts which mapped to v10.7 transcripts BUT DON'T have hits for the corresponding v10.7 query\n",
    "npnt = \"newProteinsNewTranscript.txt\" #this is a SUBSET of output.txt: braker transcripts which DID NOT map to v10.7 transcripts\n",
    "npntpro = \"newProteinsNewTranscript_ListofProteins.txt\" #this is the unique list of proteins in newProteinsNewTranscript.txt"
   ]
  },
  {
   "cell_type": "code",
   "execution_count": 122,
   "id": "631350db-ad1c-4b8d-aabb-403a3fa5dafd",
   "metadata": {},
   "outputs": [
    {
     "name": "stdout",
     "output_type": "stream",
     "text": [
      "P2RX7\n",
      "5.1e-131\n"
     ]
    }
   ],
   "source": [
    "print (new[0][2])\n",
    "print (ori[0][4])"
   ]
  },
  {
   "cell_type": "code",
   "execution_count": 123,
   "id": "9193ddba-397c-4821-a155-d64c3a2cb719",
   "metadata": {},
   "outputs": [],
   "source": [
    "# compare human HMMER results for braker vs. v10.7\n",
    "# essentially, scans through the list of proteins mapped to by braker and \n",
    "# returns a truncated list of NOVEL PROTEINS that have NOT been mapped to by v10.7\n",
    "max = len(ori)\n",
    "maxnew = len(new)\n",
    "i = 0\n",
    "j = 0\n",
    "res = []\n",
    "\n",
    "while (j<maxnew):\n",
    "    while (i<max):\n",
    "        if new[j][2] == ori[i][2]:\n",
    "            i = max\n",
    "            #print(\"match found for \" + new[j][0])\n",
    "        i+=1\n",
    "        if i == max:\n",
    "            res.append(new[j])\n",
    "    j+=1\n",
    "    i=0"
   ]
  },
  {
   "cell_type": "code",
   "execution_count": 124,
   "id": "758da54c-b348-4985-b247-c9abf053b842",
   "metadata": {},
   "outputs": [],
   "source": [
    "# this is the raw list of braker transcripts that HMMER'ed to novel human proteins NOT mapped to before by v10.7\n",
    "with open(output, \"w\") as out:\n",
    "    now = datetime.now()\n",
    "    out.write(now.strftime(\"%m/%d/%Y, %H:%M:%S\") + '\\n')\n",
    "\n",
    "with open(output, \"a\") as out:\n",
    "    for newgene in res:\n",
    "        for item in newgene:\n",
    "            out.write(item + '\\t')\n",
    "        out.write('\\n')"
   ]
  },
  {
   "cell_type": "code",
   "execution_count": 125,
   "id": "0a97b19f-05b8-4af7-ab3b-63365fd3d01d",
   "metadata": {},
   "outputs": [],
   "source": [
    "with open(\"output.txt\") as out1:\n",
    "    reader4 = csv.reader(out1, delimiter=\"\\t\")\n",
    "    outr = list(reader4)"
   ]
  },
  {
   "cell_type": "code",
   "execution_count": 126,
   "id": "118f19aa-9d91-45e6-9fd3-284d6bbe73e2",
   "metadata": {},
   "outputs": [],
   "source": [
    "# of the \"new proteins\", compare braker HMMER with v10.7 HMMER if the braker transcripts matches to a v10.7 gene\n",
    "# if the braker transcript has no mapping to a v10.7 gene, then compile to newProteinsNewTranscript.txt\n",
    "maxxen = len(xen)\n",
    "maxout = len(outr)\n",
    "i = 0\n",
    "j = 0\n",
    "res2 = []\n",
    "res3 = []\n",
    "res4 = []\n",
    "\n",
    "while (j<maxout):\n",
    "    while (i<maxxen):\n",
    "        if outr[j][0] == xen[i][0]:\n",
    "            #search for v10.7 HMMR results against human\n",
    "            orit = list(map(list, zip(*ori)))\n",
    "            if xen[i][1] in orit[0]:\n",
    "                key = orit[0].index(xen[i][1])\n",
    "                temparray = [outr[j][0], outr[j][2], outr[j][4], ori[key][0], ori[key][2], ori[key][4]]\n",
    "                res2.append(temparray)\n",
    "                i = maxxen\n",
    "            else:\n",
    "                temparray = [outr[j][0], outr[j][2], outr[j][4], xen[i][1]]\n",
    "                res3.append(temparray)\n",
    "                i = maxxen\n",
    "        i+=1\n",
    "        if i == maxxen and j != 0:\n",
    "            res4.append(outr[j])\n",
    "    j+=1\n",
    "    i=0"
   ]
  },
  {
   "cell_type": "code",
   "execution_count": 127,
   "id": "504b75a2-fe42-446e-9c3a-057e0d1cfb52",
   "metadata": {},
   "outputs": [],
   "source": [
    "# these transcripts have sequence similarity to v10.7\n",
    "# the corresponding v10.7 sequence DOES NOT HAVE a significant mapping to a human protein\n",
    "# the output will include BrakerID | HMMERed Gene(Braker) | e-value | v10.7ID\n",
    "with open(newproteins, \"w\") as out:\n",
    "    now = datetime.now()\n",
    "    out.write(now.strftime(\"%m/%d/%Y, %H:%M:%S\") + '\\n')\n",
    "\n",
    "with open(newproteins, \"a\") as out:\n",
    "    for newgene in res3:\n",
    "        for item in newgene:\n",
    "            out.write(item + '\\t')\n",
    "        out.write('\\n')"
   ]
  },
  {
   "cell_type": "code",
   "execution_count": 128,
   "id": "2eda171b-1b3f-461b-932e-433f426176d2",
   "metadata": {},
   "outputs": [],
   "source": [
    "# these transcripts have sequence similarity to v10.7\n",
    "# the corresponding v10.7 sequence already has a significant mapping to a human protein\n",
    "# the output will include BrakerID | HMMERed Gene(Braker) | e-value | v10.7ID | HMMERed Gene(v10.7) | e-value\n",
    "with open(matchedproteins, \"w\") as out:\n",
    "    now = datetime.now()\n",
    "    out.write(now.strftime(\"%m/%d/%Y, %H:%M:%S\") + '\\n')\n",
    "\n",
    "with open(matchedproteins, \"a\") as out:\n",
    "    for newgene in res2:\n",
    "        for item in newgene:\n",
    "            out.write(item + '\\t')\n",
    "        out.write('\\n')"
   ]
  },
  {
   "cell_type": "code",
   "execution_count": 129,
   "id": "325ae68f-5177-4198-8372-543d895f7998",
   "metadata": {},
   "outputs": [],
   "source": [
    "# these transcripts have NO sequence similarity to v10.7\n",
    "with open(npnt, \"w\") as out:\n",
    "    now = datetime.now()\n",
    "    out.write(now.strftime(\"%m/%d/%Y, %H:%M:%S\") + '\\n')\n",
    "\n",
    "with open(npnt, \"a\") as out:\n",
    "    for newgene in res4:\n",
    "        for item in newgene:\n",
    "            out.write(item + '\\t')\n",
    "        out.write('\\n')"
   ]
  },
  {
   "cell_type": "code",
   "execution_count": 130,
   "id": "81c3e756-2486-4103-afe5-8d6ed2e9b6fd",
   "metadata": {},
   "outputs": [],
   "source": [
    "# finally, get list of unique proteins from the newProteinNewTranscript file\n",
    "with open(\"newProteinsNewTranscript.txt\") as out:\n",
    "    reader5 = csv.reader(out, delimiter=\"\\t\")\n",
    "    npntr = list(reader5)"
   ]
  },
  {
   "cell_type": "code",
   "execution_count": 131,
   "id": "45a13282-9752-4387-b5d3-16b42b90ba9b",
   "metadata": {},
   "outputs": [],
   "source": [
    "npntr.remove(npntr[0])\n",
    "npntt = list(map(list, zip(*npntr)))\n",
    "npntgenes = npntt[2]\n",
    "npntgenes = list(dict.fromkeys(npntgenes))\n",
    "npntgenes.sort()"
   ]
  },
  {
   "cell_type": "code",
   "execution_count": 132,
   "id": "f432810d-d35a-4f31-ae53-7642e18aa89a",
   "metadata": {},
   "outputs": [],
   "source": [
    "# these are the new proteins from braker transcripts that did not map to any v10.7 genes significantly\n",
    "with open(npntpro, \"w\") as out:\n",
    "    now = datetime.now()\n",
    "    out.write(now.strftime(\"%m/%d/%Y, %H:%M:%S\") + '\\n')\n",
    "\n",
    "with open(npntpro, \"a\") as out:\n",
    "    for newgene in npntgenes:\n",
    "        out.write(newgene + '\\n')"
   ]
  },
  {
   "cell_type": "code",
   "execution_count": null,
   "id": "7fa182cd-9749-497a-9caf-247be5e23de3",
   "metadata": {},
   "outputs": [],
   "source": []
  }
 ],
 "metadata": {
  "kernelspec": {
   "display_name": "Python 3 (ipykernel)",
   "language": "python",
   "name": "python3"
  },
  "language_info": {
   "codemirror_mode": {
    "name": "ipython",
    "version": 3
   },
   "file_extension": ".py",
   "mimetype": "text/x-python",
   "name": "python",
   "nbconvert_exporter": "python",
   "pygments_lexer": "ipython3",
   "version": "3.10.13"
  }
 },
 "nbformat": 4,
 "nbformat_minor": 5
}
